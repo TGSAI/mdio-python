{
 "cells": [
  {
   "cell_type": "markdown",
   "metadata": {
    "pycharm": {
     "name": "#%% md\n"
    }
   },
   "source": [
    "# Create an Empty MDIO\n",
    "\n",
    "```{article-info}\n",
    ":author: Altay Sansal\n",
    ":date: \"{sub-ref}`today`\"\n",
    ":read-time: \"{sub-ref}`wordcount-minutes` min read\"\n",
    ":class-container: sd-p-0 sd-outline-muted sd-rounded-3 sd-font-weight-light\n",
    "```\n",
    "\n",
    "Here we will create an empty MDIO file and populate its fields.\n",
    "\n",
    "```{warning}\n",
    "For plotting, the notebook requires [Matplotlib](https://matplotlib.org/) as a dependency. Please install it before executing using\n",
    "`pip install matplotlib` or `conda install matplotlib`.\n",
    "```\n",
    "\n",
    "We first need to import the configuration classes and create function to be able to create the empty MDIO."
   ]
  },
  {
   "cell_type": "code",
   "execution_count": 2,
   "metadata": {
    "ExecuteTime": {
     "end_time": "2025-04-16T14:50:04.371422Z",
     "start_time": "2025-04-16T14:50:04.368107Z"
    },
    "pycharm": {
     "name": "#%%\n"
    }
   },
   "outputs": [],
   "source": [
    "import matplotlib.pyplot as plt\n",
    "\n",
    "from mdio import Dimension\n",
    "from mdio import Grid\n",
    "from mdio import MDIOCreateConfig\n",
    "from mdio import MDIOReader\n",
    "from mdio import MDIOVariableConfig\n",
    "from mdio import MDIOWriter\n",
    "from mdio import create_empty\n",
    "from mdio.converters.segy import get_compressor\n",
    "from mdio.segy.compat import mdio_segy_spec"
   ]
  },
  {
   "cell_type": "markdown",
   "metadata": {
    "pycharm": {
     "name": "#%% md\n"
    }
   },
   "source": [
    "## Setting Up Grid Dimensions and Variable(s)\n",
    "\n",
    "Let's try to create an MDIO file in 3D with known `inline`, `crossline`, and `sample`\n",
    "dimensions. This is exactly like a 3D Post-Stack dataset.\n",
    "\n",
    "We will use the standard `chunked_012` access pattern. All variable names must start\n",
    "with `chunked_*` for `MDIOReader` to be able to open them with any access pattern.\n",
    "\n",
    "We will also use an MDIO private utility function to get the compressor easily. The\n",
    "compressor is fully customizable, but this function gives us ones available in SEG-Y\n",
    "ingestion.\n",
    "\n",
    "If we want headers, we can also provide `header_dtype` which is a Numpy `dtype`. Again,\n",
    "we will be using the standard one MDIO uses for ingesting SEG-Ys. (Similar to SEG-Y Rev1).\n",
    "\n",
    "At the end we create empty MDIO on local disk or cloud, based on the path string."
   ]
  },
  {
   "cell_type": "code",
   "execution_count": 3,
   "metadata": {
    "ExecuteTime": {
     "end_time": "2025-04-16T14:50:06.121450Z",
     "start_time": "2025-04-16T14:50:06.002634Z"
    },
    "pycharm": {
     "name": "#%%\n"
    }
   },
   "outputs": [],
   "source": [
    "grid = Grid(\n",
    "    dims=[\n",
    "        Dimension(name=\"inline\", coords=range(100, 300, 1)),  # 100-300 with step 1\n",
    "        Dimension(name=\"crossline\", coords=range(1000, 1600, 2)),  # 1000-1600 with step 2\n",
    "        Dimension(name=\"sample\", coords=range(0, 3000, 4)),  # 0-3 seconds 4ms sample rate\n",
    "    ]\n",
    ")\n",
    "\n",
    "compressor = get_compressor(lossless=True)\n",
    "header_dtype = mdio_segy_spec().trace.header.dtype\n",
    "variable = MDIOVariableConfig(\n",
    "    name=\"chunked_012\",\n",
    "    dtype=\"float32\",\n",
    "    chunks=(128, 128, 128),\n",
    "    compressors=compressor,\n",
    "    header_dtype=header_dtype,\n",
    ")\n",
    "\n",
    "create_conf = MDIOCreateConfig(path=\"demo.mdio\", grid=grid, variables=[variable])\n",
    "create_empty(config=create_conf);"
   ]
  },
  {
   "cell_type": "markdown",
   "metadata": {},
   "source": [
    "## Populating the MDIO\n",
    "\n",
    "Once empty MDIO is created, you can populate it with sample data, header data,\n",
    "metadata, and statistics. The `live_mask` is automatically flipped to 1 after\n",
    "every write. However, the consistency of the `live_mask` is up to the user. If\n",
    "not populated correctly, at read time, traces may be skipped.\n",
    "\n",
    "We will read the usual stats and as you can see they're all empty. Text header\n",
    "and binary header are only required if we are going to export this back to SEG-Y,\n",
    "and can be modified. We can edit these if necessary using the writer."
   ]
  },
  {
   "cell_type": "code",
   "execution_count": 4,
   "metadata": {
    "ExecuteTime": {
     "end_time": "2025-04-16T14:50:09.974442Z",
     "start_time": "2025-04-16T14:50:09.951257Z"
    },
    "pycharm": {
     "name": "#%%\n"
    }
   },
   "outputs": [
    {
     "data": {
      "text/plain": [
       "(['C00                                                                             ',\n",
       "  'C01                                                                             ',\n",
       "  'C02                                                                             ',\n",
       "  'C03                                                                             ',\n",
       "  'C04                                                                             '],\n",
       " {},\n",
       " {'rms': 0, 'min': 0, 'mean': 0, 'max': 0, 'std': 0})"
      ]
     },
     "execution_count": 4,
     "metadata": {},
     "output_type": "execute_result"
    }
   ],
   "source": [
    "writer = MDIOWriter(create_conf.path)\n",
    "\n",
    "# Truncate text header for display\n",
    "writer.text_header[:5], writer.binary_header, writer.stats"
   ]
  },
  {
   "cell_type": "markdown",
   "metadata": {},
   "source": [
    "## Updating File and Checking with `MDIOReader`.\n",
    "\n",
    "We write traces here, the headers are still empty. If you need the headers\n",
    "populated, this is where they would be written to file as well.\n",
    "\n",
    "All the extra metadata we are writing is so that we can export back to SEG-Y\n",
    "in the future. If that's not a requirement most of the metadata can be\n",
    "omitted.\n",
    "\n",
    "If you already have an MDIO prior to this, all the metadata can be copied\n",
    "over from the previous version."
   ]
  },
  {
   "cell_type": "code",
   "execution_count": 5,
   "metadata": {
    "ExecuteTime": {
     "end_time": "2025-04-16T14:50:12.498287Z",
     "start_time": "2025-04-16T14:50:11.670230Z"
    },
    "pycharm": {
     "name": "#%%\n"
    }
   },
   "outputs": [
    {
     "data": {
      "text/plain": [
       "({'data_sample_format': 1,\n",
       "  'sample_interval': 4,\n",
       "  'samples_per_trace': 750,\n",
       "  'segy_revision_major': 1,\n",
       "  'segy_revision_minor': 0},\n",
       " {'rms': 3, 'min': -4, 'mean': 12, 'max': 4, 'std': 5})"
      ]
     },
     "execution_count": 5,
     "metadata": {},
     "output_type": "execute_result"
    }
   ],
   "source": [
    "sample_dim = writer.grid.select_dim(\"sample\")\n",
    "sample_interval = int(sample_dim.coords[1] - sample_dim.coords[0])\n",
    "num_samples = sample_dim.size\n",
    "writer.binary_header = {\n",
    "    \"data_sample_format\": 1,\n",
    "    \"sample_interval\": sample_interval,\n",
    "    \"samples_per_trace\": num_samples,\n",
    "    \"segy_revision_major\": 1,\n",
    "    \"segy_revision_minor\": 0,\n",
    "}\n",
    "\n",
    "# Write some values to the file\n",
    "writer[:5] = 1\n",
    "writer[5:10] = 2\n",
    "writer[50:100] = 3\n",
    "writer[150:175] = -1\n",
    "\n",
    "# Write some made up stats\n",
    "writer.stats = {\"mean\": 12, \"std\": 5, \"rms\": 3, \"min\": -4, \"max\": 4}\n",
    "\n",
    "reader = MDIOReader(create_conf.path)\n",
    "reader.binary_header, reader.stats"
   ]
  },
  {
   "cell_type": "markdown",
   "metadata": {},
   "source": "Plot some of the data we populated:"
  },
  {
   "cell_type": "code",
   "execution_count": 6,
   "metadata": {
    "ExecuteTime": {
     "end_time": "2025-04-16T14:50:14.256953Z",
     "start_time": "2025-04-16T14:50:14.036094Z"
    }
   },
   "outputs": [
    {
     "data": {
      "image/png": "[encoded data removed]",
      "text/plain": [
       "<Figure size 640x480 with 2 Axes>"
      ]
     },
     "metadata": {},
     "output_type": "display_data"
    }
   ],
   "source": [
    "fig, ax = plt.subplots(1, 2, sharex=\"all\")\n",
    "ax[0].imshow(writer.live_mask[:].T, aspect=\"auto\")\n",
    "ax[1].imshow(reader[:, 150].T, aspect=\"auto\")\n",
    "\n",
    "ax[0].set_xlabel(\"inline\")\n",
    "ax[0].set_ylabel(\"crossline\")\n",
    "ax[1].set_xlabel(\"inline\")\n",
    "ax[1].set_ylabel(\"sample\")\n",
    "ax[0].set_title(\"Live Mask\")\n",
    "ax[1].set_title(\"Middle Crossline\")\n",
    "fig.tight_layout();"
   ]
  },
  {
   "cell_type": "markdown",
   "metadata": {},
   "source": [
    "## Write to SEG-Y\n",
    "\n",
    "Because we populated all the fields necessary for SEG-Y output, we can call the\n",
    "MDIO to SEGY converter and get a file out."
   ]
  },
  {
   "cell_type": "code",
   "execution_count": 7,
   "metadata": {
    "ExecuteTime": {
     "end_time": "2025-04-16T14:50:15.788812Z",
     "start_time": "2025-04-16T14:50:15.009889Z"
    }
   },
   "outputs": [
    {
     "name": "stderr",
     "output_type": "stream",
     "text": [
      "Unwrapping MDIO Blocks: 100%|██████████| 7/7 [00:00<00:00, 10.55it/s]\n",
      "Merging lines: 100%|██████████| 1/1 [00:00<00:00, 17.26it/s]"
     ]
    },
    {
     "name": "stdout",
     "output_type": "stream",
     "text": [
      "[(0, 0, 0, 0, 0, 4, 4000, 750, 750, 1, 0, 0, 0, 0, 0, 0, 0, 0, 0, 0, 0, 0, 0, 0, 0, 0, 0, 0, 0, 1, 0)]\n",
      "[[1. 1. 1. ... 1. 1. 1.]\n",
      " [1. 1. 1. ... 1. 1. 1.]\n",
      " [1. 1. 1. ... 1. 1. 1.]\n",
      " ...\n",
      " [1. 1. 1. ... 1. 1. 1.]\n",
      " [1. 1. 1. ... 1. 1. 1.]\n",
      " [1. 1. 1. ... 1. 1. 1.]]\n"
     ]
    },
    {
     "name": "stderr",
     "output_type": "stream",
     "text": [
      "\n"
     ]
    }
   ],
   "source": [
    "from segy import SegyFile\n",
    "\n",
    "from mdio import mdio_to_segy\n",
    "\n",
    "mdio_to_segy(\"demo.mdio\", \"demo.segy\")\n",
    "segy = SegyFile(\"demo.segy\")\n",
    "print(segy.binary_header)\n",
    "print(segy.sample[:100])"
   ]
  },
  {
   "cell_type": "markdown",
   "metadata": {},
   "source": [
    "## Copying an Existing MDIO without Data and Headers\n",
    "\n",
    "We also provide a `create_empty_like` function which allows us to create an MDIO file\n",
    "with the same structure and basic metadata as an existing one.\n",
    "\n",
    "This will carry over:\n",
    "* All access patterns in source MDIO\n",
    "* Grid (shape, coordinates, dimensions, etc)\n",
    "* Text Header\n",
    "* Binary Header\n",
    "\n",
    "It will **NOT** carry over:\n",
    "* Trace data\n",
    "* Header data\n",
    "* Statistics\n",
    "* Live Mask"
   ]
  },
  {
   "cell_type": "code",
   "execution_count": 8,
   "metadata": {
    "ExecuteTime": {
     "end_time": "2025-04-16T14:50:17.246513Z",
     "start_time": "2025-04-16T14:50:17.111779Z"
    }
   },
   "outputs": [],
   "source": [
    "from mdio import create_empty_like\n",
    "\n",
    "copy_path = \"copy_of_existing.mdio\"\n",
    "create_empty_like(create_conf.path, copy_path)\n",
    "\n",
    "copy_reader = MDIOReader(copy_path)\n",
    "assert copy_reader.shape == reader.shape\n",
    "assert copy_reader.binary_header == reader.binary_header\n",
    "assert copy_reader.stats != reader.stats"
   ]
  },
  {
   "cell_type": "code",
   "execution_count": null,
   "metadata": {},
   "outputs": [],
   "source": []
  }
 ],
 "metadata": {
  "kernelspec": {
   "display_name": "Python 3 (ipykernel)",
   "language": "python",
   "name": "python3"
  },
  "language_info": {
   "codemirror_mode": {
    "name": "ipython",
    "version": 3
   },
   "file_extension": ".py",
   "mimetype": "text/x-python",
   "name": "python",
   "nbconvert_exporter": "python",
   "pygments_lexer": "ipython3",
   "version": "3.12.3"
  },
  "widgets": {
   "application/vnd.jupyter.widget-state+json": {
    "state": {
     "104c0d4e90244ebc959e51a58794dcf4": {
      "model_module": "@jupyter-widgets/base",
      "model_module_version": "2.0.0",
      "model_name": "LayoutModel",
      "state": {
       "display": "inline-flex",
       "flex_flow": "row wrap",
       "width": "100%"
      }
     },
     "1c0f5b458ee1401eaa8de63c65802073": {
      "model_module": "@jupyter-widgets/controls",
      "model_module_version": "2.0.0",
      "model_name": "HTMLStyleModel",
      "state": {
       "description_width": "",
       "font_size": null,
       "text_color": null
      }
     },
     "21b25dd6080d42368afc06770d5e1755": {
      "model_module": "@jupyter-widgets/controls",
      "model_module_version": "2.0.0",
      "model_name": "HTMLModel",
      "state": {
       "layout": "IPY_MODEL_35fb49026dac479eba87217c2f6bcb9a",
       "style": "IPY_MODEL_3ab3e27c83aa423d9ecdac94e576f0fe",
       "value": "Ingesting SEG-Y in 6 chunks: 100%"
      }
     },
     "2693aae410f04e7587f0400b5eef1079": {
      "model_module": "@jupyter-widgets/controls",
      "model_module_version": "2.0.0",
      "model_name": "ProgressStyleModel",
      "state": {
       "description_width": ""
      }
     },
     "318aea09479a479981dcfa29bc856c67": {
      "model_module": "@jupyter-widgets/controls",
      "model_module_version": "2.0.0",
      "model_name": "ProgressStyleModel",
      "state": {
       "description_width": ""
      }
     },
     "35fb49026dac479eba87217c2f6bcb9a": {
      "model_module": "@jupyter-widgets/base",
      "model_module_version": "2.0.0",
      "model_name": "LayoutModel",
      "state": {}
     },
     "3ab3e27c83aa423d9ecdac94e576f0fe": {
      "model_module": "@jupyter-widgets/controls",
      "model_module_version": "2.0.0",
      "model_name": "HTMLStyleModel",
      "state": {
       "description_width": "",
       "font_size": null,
       "text_color": null
      }
     },
     "420b4a9492c54eb48d7779f38a09fd20": {
      "model_module": "@jupyter-widgets/base",
      "model_module_version": "2.0.0",
      "model_name": "LayoutModel",
      "state": {
       "flex": "2"
      }
     },
     "42afe4fae9dd4bc4a341a231cf7a9c32": {
      "model_module": "@jupyter-widgets/base",
      "model_module_version": "2.0.0",
      "model_name": "LayoutModel",
      "state": {}
     },
     "4df685a95de542ffab6f265df89b8949": {
      "model_module": "@jupyter-widgets/controls",
      "model_module_version": "2.0.0",
      "model_name": "HTMLStyleModel",
      "state": {
       "description_width": "",
       "font_size": null,
       "text_color": null
      }
     },
     "58eaddb54c8840da83d1f6503d6ba64f": {
      "model_module": "@jupyter-widgets/base",
      "model_module_version": "2.0.0",
      "model_name": "LayoutModel",
      "state": {}
     },
     "5b3e72b71f304230bc36bb91f9c173be": {
      "model_module": "@jupyter-widgets/controls",
      "model_module_version": "2.0.0",
      "model_name": "HTMLStyleModel",
      "state": {
       "description_width": "",
       "font_size": null,
       "text_color": null
      }
     },
     "5c1fab0ccc7e42c69c2b663b67ca9e3c": {
      "model_module": "@jupyter-widgets/base",
      "model_module_version": "2.0.0",
      "model_name": "LayoutModel",
      "state": {}
     },
     "63a54817ae8b4c8d85b30d8c97e7ed0d": {
      "model_module": "@jupyter-widgets/controls",
      "model_module_version": "2.0.0",
      "model_name": "HBoxModel",
      "state": {
       "children": [
        "IPY_MODEL_e170d60a55a14c489d32b101293a9d33",
        "IPY_MODEL_662ad93cf7b3470f8e197350441f09ca",
        "IPY_MODEL_ac4abab2367e461e956e4e0edb27be44"
       ],
       "layout": "IPY_MODEL_c59d6fe969a04f4da332ae2a6fdb9c77"
      }
     },
     "63f87a2410ba47d38ad9f55a81357a29": {
      "model_module": "@jupyter-widgets/controls",
      "model_module_version": "2.0.0",
      "model_name": "HTMLModel",
      "state": {
       "layout": "IPY_MODEL_ca48140488574a28a7469552441560e4",
       "style": "IPY_MODEL_ae2037efb9cc459e84bcc28ca7243437",
       "value": " 2/2 [00:03&lt;00:00,  3.01s/block]"
      }
     },
     "64eb2b9c8a094a1ea5f1991e5f09f5d9": {
      "model_module": "@jupyter-widgets/base",
      "model_module_version": "2.0.0",
      "model_name": "LayoutModel",
      "state": {}
     },
     "662ad93cf7b3470f8e197350441f09ca": {
      "model_module": "@jupyter-widgets/controls",
      "model_module_version": "2.0.0",
      "model_name": "FloatProgressModel",
      "state": {
       "bar_style": "success",
       "layout": "IPY_MODEL_420b4a9492c54eb48d7779f38a09fd20",
       "max": 1,
       "style": "IPY_MODEL_d16e93f72f3d4aeda2f5deee87e9754f",
       "value": 1
      }
     },
     "74283969ff5446c89bb83b00a70226cf": {
      "model_module": "@jupyter-widgets/controls",
      "model_module_version": "2.0.0",
      "model_name": "HTMLModel",
      "state": {
       "layout": "IPY_MODEL_5c1fab0ccc7e42c69c2b663b67ca9e3c",
       "style": "IPY_MODEL_1c0f5b458ee1401eaa8de63c65802073",
       "value": " 6/6 [00:09&lt;00:00,  2.48s/block]"
      }
     },
     "75cf0c1ed25e47aab20b060f3bb44fb8": {
      "model_module": "@jupyter-widgets/controls",
      "model_module_version": "2.0.0",
      "model_name": "HBoxModel",
      "state": {
       "children": [
        "IPY_MODEL_21b25dd6080d42368afc06770d5e1755",
        "IPY_MODEL_c33f32b62a204ef094f67b10f8adbdc1",
        "IPY_MODEL_74283969ff5446c89bb83b00a70226cf"
       ],
       "layout": "IPY_MODEL_91df4ac76fd744539d4237d6099f34a5"
      }
     },
     "7ff32d7deac14f21ab0f0939fe09e440": {
      "model_module": "@jupyter-widgets/controls",
      "model_module_version": "2.0.0",
      "model_name": "ProgressStyleModel",
      "state": {
       "description_width": ""
      }
     },
     "91df4ac76fd744539d4237d6099f34a5": {
      "model_module": "@jupyter-widgets/base",
      "model_module_version": "2.0.0",
      "model_name": "LayoutModel",
      "state": {
       "display": "inline-flex",
       "flex_flow": "row wrap",
       "width": "100%"
      }
     },
     "981634b52a7a4ffdae6186061c0b6482": {
      "model_module": "@jupyter-widgets/controls",
      "model_module_version": "2.0.0",
      "model_name": "HBoxModel",
      "state": {
       "children": [
        "IPY_MODEL_f65266f861cf40ef84e9ec74a8e0b44c",
        "IPY_MODEL_9aaf514a5035413d8cbbad58aa0221f4",
        "IPY_MODEL_63f87a2410ba47d38ad9f55a81357a29"
       ],
       "layout": "IPY_MODEL_104c0d4e90244ebc959e51a58794dcf4"
      }
     },
     "9aaf514a5035413d8cbbad58aa0221f4": {
      "model_module": "@jupyter-widgets/controls",
      "model_module_version": "2.0.0",
      "model_name": "FloatProgressModel",
      "state": {
       "bar_style": "success",
       "layout": "IPY_MODEL_b25523a221fd4b5e9211d07ef39cccf5",
       "max": 2,
       "style": "IPY_MODEL_318aea09479a479981dcfa29bc856c67",
       "value": 2
      }
     },
     "9fe5348964cd4f7880bcd33204bbc7a2": {
      "model_module": "@jupyter-widgets/base",
      "model_module_version": "2.0.0",
      "model_name": "LayoutModel",
      "state": {}
     },
     "a03d238db31145b881a1be478f9eb72f": {
      "model_module": "@jupyter-widgets/controls",
      "model_module_version": "2.0.0",
      "model_name": "HTMLStyleModel",
      "state": {
       "description_width": "",
       "font_size": null,
       "text_color": null
      }
     },
     "a6aabcd2e57348a49bb59477f6a9fd90": {
      "model_module": "@jupyter-widgets/controls",
      "model_module_version": "2.0.0",
      "model_name": "FloatProgressModel",
      "state": {
       "bar_style": "success",
       "layout": "IPY_MODEL_cfb02c9c7447491ca00bbb6acd99bb79",
       "max": 26,
       "style": "IPY_MODEL_7ff32d7deac14f21ab0f0939fe09e440",
       "value": 26
      }
     },
     "ac4abab2367e461e956e4e0edb27be44": {
      "model_module": "@jupyter-widgets/controls",
      "model_module_version": "2.0.0",
      "model_name": "HTMLModel",
      "state": {
       "layout": "IPY_MODEL_58eaddb54c8840da83d1f6503d6ba64f",
       "style": "IPY_MODEL_a03d238db31145b881a1be478f9eb72f",
       "value": " 3/? [00:00&lt;00:00,  8.29block/s]"
      }
     },
     "ae2037efb9cc459e84bcc28ca7243437": {
      "model_module": "@jupyter-widgets/controls",
      "model_module_version": "2.0.0",
      "model_name": "HTMLStyleModel",
      "state": {
       "description_width": "",
       "font_size": null,
       "text_color": null
      }
     },
     "b25523a221fd4b5e9211d07ef39cccf5": {
      "model_module": "@jupyter-widgets/base",
      "model_module_version": "2.0.0",
      "model_name": "LayoutModel",
      "state": {
       "flex": "2"
      }
     },
     "b9810ee38bbe43f4bba100e53379be65": {
      "model_module": "@jupyter-widgets/controls",
      "model_module_version": "2.0.0",
      "model_name": "HTMLModel",
      "state": {
       "layout": "IPY_MODEL_42afe4fae9dd4bc4a341a231cf7a9c32",
       "style": "IPY_MODEL_fdcea609ee7349629604217b625371d3",
       "value": " 26/26 [00:01&lt;00:00, 18.92block/s]"
      }
     },
     "c33f32b62a204ef094f67b10f8adbdc1": {
      "model_module": "@jupyter-widgets/controls",
      "model_module_version": "2.0.0",
      "model_name": "FloatProgressModel",
      "state": {
       "bar_style": "success",
       "layout": "IPY_MODEL_d23d88490a1b4941b8ca228b7d4a39cb",
       "max": 6,
       "style": "IPY_MODEL_2693aae410f04e7587f0400b5eef1079",
       "value": 6
      }
     },
     "c59d6fe969a04f4da332ae2a6fdb9c77": {
      "model_module": "@jupyter-widgets/base",
      "model_module_version": "2.0.0",
      "model_name": "LayoutModel",
      "state": {
       "display": "inline-flex",
       "flex_flow": "row wrap",
       "width": "100%"
      }
     },
     "ca48140488574a28a7469552441560e4": {
      "model_module": "@jupyter-widgets/base",
      "model_module_version": "2.0.0",
      "model_name": "LayoutModel",
      "state": {}
     },
     "cfb02c9c7447491ca00bbb6acd99bb79": {
      "model_module": "@jupyter-widgets/base",
      "model_module_version": "2.0.0",
      "model_name": "LayoutModel",
      "state": {
       "flex": "2"
      }
     },
     "d16e93f72f3d4aeda2f5deee87e9754f": {
      "model_module": "@jupyter-widgets/controls",
      "model_module_version": "2.0.0",
      "model_name": "ProgressStyleModel",
      "state": {
       "description_width": ""
      }
     },
     "d23d88490a1b4941b8ca228b7d4a39cb": {
      "model_module": "@jupyter-widgets/base",
      "model_module_version": "2.0.0",
      "model_name": "LayoutModel",
      "state": {
       "flex": "2"
      }
     },
     "d565a20d37e84ed0a1195e9a90154960": {
      "model_module": "@jupyter-widgets/controls",
      "model_module_version": "2.0.0",
      "model_name": "HBoxModel",
      "state": {
       "children": [
        "IPY_MODEL_db696e15587c4a54b82886b3eb5a0c96",
        "IPY_MODEL_a6aabcd2e57348a49bb59477f6a9fd90",
        "IPY_MODEL_b9810ee38bbe43f4bba100e53379be65"
       ],
       "layout": "IPY_MODEL_eab4b060672b4dd5a73ca7bb8f782cd2"
      }
     },
     "db696e15587c4a54b82886b3eb5a0c96": {
      "model_module": "@jupyter-widgets/controls",
      "model_module_version": "2.0.0",
      "model_name": "HTMLModel",
      "state": {
       "layout": "IPY_MODEL_64eb2b9c8a094a1ea5f1991e5f09f5d9",
       "style": "IPY_MODEL_5b3e72b71f304230bc36bb91f9c173be",
       "value": "Step 1 / 2 Writing Blocks: 100%"
      }
     },
     "e170d60a55a14c489d32b101293a9d33": {
      "model_module": "@jupyter-widgets/controls",
      "model_module_version": "2.0.0",
      "model_name": "HTMLModel",
      "state": {
       "layout": "IPY_MODEL_9fe5348964cd4f7880bcd33204bbc7a2",
       "style": "IPY_MODEL_4df685a95de542ffab6f265df89b8949",
       "value": "Step 2 / 2 Concat Blocks: "
      }
     },
     "e66368cda8124001b16459a0634029e2": {
      "model_module": "@jupyter-widgets/controls",
      "model_module_version": "2.0.0",
      "model_name": "HTMLStyleModel",
      "state": {
       "description_width": "",
       "font_size": null,
       "text_color": null
      }
     },
     "eab4b060672b4dd5a73ca7bb8f782cd2": {
      "model_module": "@jupyter-widgets/base",
      "model_module_version": "2.0.0",
      "model_name": "LayoutModel",
      "state": {
       "display": "inline-flex",
       "flex_flow": "row wrap",
       "width": "100%"
      }
     },
     "f65266f861cf40ef84e9ec74a8e0b44c": {
      "model_module": "@jupyter-widgets/controls",
      "model_module_version": "2.0.0",
      "model_name": "HTMLModel",
      "state": {
       "layout": "IPY_MODEL_fff4199774534d9f982f03738fbb08e7",
       "style": "IPY_MODEL_e66368cda8124001b16459a0634029e2",
       "value": "Scanning SEG-Y for geometry attributes: 100%"
      }
     },
     "fdcea609ee7349629604217b625371d3": {
      "model_module": "@jupyter-widgets/controls",
      "model_module_version": "2.0.0",
      "model_name": "HTMLStyleModel",
      "state": {
       "description_width": "",
       "font_size": null,
       "text_color": null
      }
     },
     "fff4199774534d9f982f03738fbb08e7": {
      "model_module": "@jupyter-widgets/base",
      "model_module_version": "2.0.0",
      "model_name": "LayoutModel",
      "state": {}
     }
    },
    "version_major": 2,
    "version_minor": 0
   }
  }
 },
 "nbformat": 4,
 "nbformat_minor": 4
}
