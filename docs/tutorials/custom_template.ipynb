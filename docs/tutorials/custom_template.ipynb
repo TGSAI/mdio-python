{
 "cells": [
  {
   "cell_type": "markdown",
   "id": "85114119ae7a4db0",
   "metadata": {},
   "source": [
    "# Create and Register a Custom Template\n",
    "\n",
    "```{article-info}\n",
    ":author: Altay Sansal\n",
    ":date: \"{sub-ref}`today`\"\n",
    ":read-time: \"{sub-ref}`wordcount-minutes` min read\"\n",
    ":class-container: sd-p-0 sd-outline-muted sd-rounded-3 sd-font-weight-light\n",
    "```\n",
    "\n",
    "```{warning}\n",
    "Most SEG-Y files correspond to standard seismic data types or field configurations. We recommend using\n",
    "the built-in templates from the registry whenever possible. Create a custom template only when your file\n",
    "is unusual and cannot be represented by existing templates. In many cases, you can simply customize the\n",
    "SEG-Y header byte mapping during ingestion without defining a new template.\n",
    "```\n",
    "\n",
    "In this tutorial we will walk through the Template Registry and show how to:\n",
    "\n",
    "- Discover available templates in the registry\n",
    "- Define and register your own template\n",
    "- Generate a tiny synthetic SEG-Y file using the TGSAI/segy library\n",
    "- Ingest that SEG-Y into MDIO using the custom template you defined\n",
    "\n",
    "If this is your first time with MDIO, you may want to skim the Quickstart first."
   ]
  },
  {
   "cell_type": "markdown",
   "id": "a793f2cfb58f09cc",
   "metadata": {},
   "source": [
    "## What is a Template and a Template Registry?\n",
    "\n",
    "A template defines how an MDIO dataset is structured: names of dimensions and coordinates, the default variable name, chunking hints, and attributes to be stored. Since many seismic datasets share common structures (e.g., 3D post-stack, 2D post-stack, pre-stack CDP/shot, etc.), MDIO ships with a pre-populated template registry and APIs to fetch or register templates.\n",
    "\n",
    "Fetching a template from it returns a copied instance you can freely customize without affecting others."
   ]
  },
  {
   "cell_type": "code",
   "execution_count": null,
   "id": "c7a760a019930d4e",
   "metadata": {},
   "outputs": [],
   "source": [
    "from mdio.builder.template_registry import get_template\n",
    "from mdio.builder.template_registry import get_template_registry\n",
    "from mdio.builder.template_registry import list_templates\n",
    "\n",
    "registry = get_template_registry()\n",
    "registry  # pretty HTML in notebooks"
   ]
  },
  {
   "cell_type": "markdown",
   "id": "810dbba2b6dba787",
   "metadata": {},
   "source": "We can list all registered templates and get a list as well."
  },
  {
   "cell_type": "code",
   "execution_count": null,
   "id": "38eb1da635c7be0f",
   "metadata": {},
   "outputs": [],
   "source": [
    "list_templates()"
   ]
  },
  {
   "cell_type": "markdown",
   "id": "d87bd9ec781a8a8e",
   "metadata": {},
   "source": [
    "## Defining a Minimal Custom Template\n",
    "\n",
    "To define a custom template, subclass `AbstractDatasetTemplate` and set:\n",
    "\n",
    "- `_name`: a public name for the template\n",
    "- `_dim_names`: names for each axis of your data variable (the last axis is the trace/time or trace/depth axis)\n",
    "- `_physical_coord_names` and `_logical_coord_names`: optional additional coordinate variables to store along the spatial grid\n",
    "- `_load_dataset_attributes()`: optional attributes stored at the dataset level\n",
    "\n",
    "You can also override chunking via the `full_chunk_shape` property after you know your dataset sizes.\n",
    "\n",
    "Below we create a very unusual shot–like template with two spatial dims `track` and `sequence`, plus a `time` axis. We will store \"some\" X/Y coordinates as physical coordinates and store `gun`/`shot_line` as logical indices."
   ]
  },
  {
   "cell_type": "code",
   "execution_count": null,
   "id": "cfc9d9b0e1b67a76",
   "metadata": {},
   "outputs": [],
   "source": [
    "from mdio.builder.templates.base import AbstractDatasetTemplate\n",
    "\n",
    "\n",
    "class CustomFieldTemplate(AbstractDatasetTemplate):\n",
    "    \"\"\"A custom template that has unusual dimensions and coordinates.\"\"\"\n",
    "\n",
    "    def __init__(self, data_domain: str = \"time\") -> None:\n",
    "        super().__init__(data_domain)\n",
    "        # Dimension order matters; the last dimension is the trace time (or depth) axis\n",
    "        self._dim_names = (\"track\", \"sequence\", self.trace_domain)\n",
    "        # Additional coordinates: these are added on top of dimension coordinates\n",
    "        self._physical_coord_names = (\"some_x\", \"some_y\")\n",
    "        self._logical_coord_names = (\"gun\", \"shot_line\")\n",
    "        self._var_chunk_shape = (4, 4, 64)\n",
    "\n",
    "    @property\n",
    "    def _name(self) -> str:  # public name for the registry\n",
    "        return \"CustomFieldTime\"\n",
    "\n",
    "    def _load_dataset_attributes(self) -> dict:\n",
    "        return {\n",
    "            \"description\": \"Minimal 2D post-stack style template for demos\",\n",
    "            \"domain\": self.trace_domain,\n",
    "        }\n",
    "\n",
    "\n",
    "CustomFieldTemplate()"
   ]
  },
  {
   "cell_type": "markdown",
   "id": "15e61310ed0ffd97",
   "metadata": {},
   "source": [
    "## Registering the Custom Template\n",
    "\n",
    "The registry returns a deep copy of the template on every fetch. To make the template discoverable by name, register it first, then retrieve it with `get_template`."
   ]
  },
  {
   "cell_type": "code",
   "execution_count": null,
   "id": "a4e1847b20da6768",
   "metadata": {},
   "outputs": [],
   "source": [
    "from mdio.builder.template_registry import register_template\n",
    "\n",
    "register_template(CustomFieldTemplate())\n",
    "print(\"Registered:\", \"CustomFieldTime\" in list_templates())\n",
    "\n",
    "custom_template = get_template(\"CustomFieldTime\")\n",
    "custom_template"
   ]
  },
  {
   "cell_type": "markdown",
   "id": "83b0772f1913c652",
   "metadata": {},
   "source": "You can also set units at any time. For this demo we’ll set milliseconds for the time axis. The spatial units will be inferred from the SEG-Y binary header during ingestion, but we can override later if necessary."
  },
  {
   "cell_type": "code",
   "execution_count": null,
   "id": "d7dca50d72d2f93",
   "metadata": {},
   "outputs": [],
   "source": [
    "from mdio.builder.schemas.v1.units import LengthUnitModel\n",
    "from mdio.builder.schemas.v1.units import TimeUnitModel\n",
    "\n",
    "custom_template.add_units(\n",
    "    {\n",
    "        \"time\": TimeUnitModel(time=\"ms\"),\n",
    "        \"some_x\": LengthUnitModel(length=\"ft\"),\n",
    "        \"some_y\": LengthUnitModel(length=\"ft\"),\n",
    "    }\n",
    ")\n",
    "custom_template"
   ]
  },
  {
   "cell_type": "markdown",
   "id": "367ade9824e72bc3",
   "metadata": {},
   "source": [
    "## Changing chunk size (chunks) on an existing template\n",
    "\n",
    "Often you will want to tweak the chunking strategy for performance. You can do this in two ways:\n",
    "\n",
    "- When defining a subclass, set a default in the constructor (e.g., `self._var_chunk_shape = (...)`).\n",
    "- On an existing template instance, assign to the `full_chunk_shape` property once you know your final\n",
    "  dataset sizes (the tuple length must match the number of data dimensions).\n",
    "\n",
    "Below is a tiny demo showing how to modify the chunk shape on a fetched template. We first build the\n",
    "template with known sizes to satisfy validation, then update `full_chunk_shape`.\n",
    "\n",
    "```{note}\n",
    "In the SEG-Y to MDIO conversion workflow, MDIO infers the final grid shape from the SEG-Y headers. It’s\n",
    "common to set or adjust `full_chunk_shape` right before calling `segy_to_mdio`, using the same sizes\n",
    "you expect for the final array.\n",
    "```"
   ]
  },
  {
   "cell_type": "code",
   "execution_count": null,
   "id": "75939231b58c204a",
   "metadata": {},
   "outputs": [],
   "source": [
    "_ = custom_template.build_dataset(name=\"demo-only\", sizes=(4, 4, 128))\n",
    "# pick smaller chunks than the full array for better parallelism and IO\n",
    "custom_template.full_chunk_shape = (2, 2, 32)\n",
    "\n",
    "custom_template"
   ]
  },
  {
   "cell_type": "markdown",
   "id": "fc05aa3c81f8465c",
   "metadata": {},
   "source": [
    "## Recap: Key APIs Used\n",
    "\n",
    "- Template registry helpers: `get_template_registry`, `list_templates`, `register_template`, `get_template`\n",
    "- Base template to subclass: `AbstractDatasetTemplate`\n",
    "\n",
    "With these pieces, you can standardize how your seismic data is represented in MDIO and keep ingestion code concise and repeatable.\n"
   ]
  }
 ],
 "metadata": {
  "kernelspec": {
   "display_name": "Python 3",
   "language": "python",
   "name": "python3"
  },
  "language_info": {
   "codemirror_mode": {
    "name": "ipython",
    "version": 2
   },
   "file_extension": ".py",
   "mimetype": "text/x-python",
   "name": "python",
   "nbconvert_exporter": "python",
   "pygments_lexer": "ipython2",
   "version": "2.7.6"
  },
  "mystnb": {
   "execution_mode": "force"
  }
 },
 "nbformat": 4,
 "nbformat_minor": 5
}
