{
 "cells": [
  {
   "cell_type": "markdown",
   "metadata": {
    "pycharm": {
     "name": "#%% md\n"
    }
   },
   "source": [
    "# Get Started in 10 Minutes\n",
    "\n",
    "```{article-info}\n",
    ":author: Altay Sansal\n",
    ":date: \"{sub-ref}`today`\"\n",
    ":read-time: \"{sub-ref}`wordcount-minutes` min read\"\n",
    ":class-container: sd-p-0 sd-outline-muted sd-rounded-3 sd-font-weight-light\n",
    "```\n",
    "\n",
    "In this page we will be showing basic capabilities of MDIO.\n",
    "\n",
    "For demonstration purposes, we will ingest the **remote** Teapot Dome open-source dataset.\n",
    "The dataset details and licensing can be found at the [SEG Wiki](https://wiki.seg.org/wiki/Teapot_dome_3D_survey).\n",
    "\n",
    "We are using the 3D seismic stack dataset named `filt_mig.sgy`.\n",
    "\n",
    "The full HTTP link for the dataset (hosted on AWS): http://s3.amazonaws.com/teapot/filt_mig.sgy\n",
    "\n",
    "```{warning}\n",
    "For plotting and remote ingestion the notebook requires [Matplotlib](https://matplotlib.org/) and `aiohttp`\n",
    "as a dependency. Please install it before executing using `pip install matplotlib aiohttp` or\n",
    " `conda install matplotlib aiohttp`.\n",
    "```\n",
    "\n",
    "## Defining the SEG-Y Dataset\n",
    "\n",
    "Since MDIO 0.8 we can directly ingest remote SEG-Y files! The file is 386 MB in size. To make the header scan performant we can also\n",
    "set up an environment variable for MDIO. See here for when to use this:\n",
    "[Buffered Reads in Ingestion](https://mdio-python.readthedocs.io/en/stable/usage.html#buffered-reads-in-ingestion).\n",
    "\n",
    "The dataset is irregularly shaped, however it is padded to a rectangle with zeros (dead traces). We will see that later at the live mask plotting.\n",
    "\n",
    "The following environment variables are essential here:\n",
    "- `MDIO__IMPORT__CLOUD_NATIVE` tells MDIO to do buffered reads for headers due to remote file.\n",
    "- `MDIO__IMPORT__SAVE_SEGY_FILE_HEADER` makes MDIO save the SEG-Y specific file headers (text, binary) which is not strictly necessary for consumption and is disabled by default."
   ]
  },
  {
   "metadata": {},
   "cell_type": "code",
   "outputs": [],
   "execution_count": null,
   "source": [
    "import os\n",
    "\n",
    "os.environ[\"MDIO__IMPORT__CLOUD_NATIVE\"] = \"true\"\n",
    "os.environ[\"MDIO__IMPORT__SAVE_SEGY_FILE_HEADER\"] = \"true\"\n",
    "\n",
    "input_url = \"http://s3.amazonaws.com/teapot/filt_mig.sgy\""
   ]
  },
  {
   "cell_type": "markdown",
   "metadata": {
    "pycharm": {
     "name": "#%% md\n"
    }
   },
   "source": [
    "## Ingesting to MDIO\n",
    "\n",
    "To do this, we can use the convenient SEG-Y to MDIO converter.\n",
    "\n",
    "The `inline` and `crossline` values are located at bytes `181` and `185`. Note that this doesn't match any SEG-Y standards.\n",
    "\n",
    "MDIO uses [TGSAI/segy][segy-github] to parse the SEG-Y; the field names conform to its canonical keys defined in [SEGY Binary Header Keys][segy-binary-keys] and [SEGY Trace Header Keys][segy-trace-keys]. Since MDIO v1 we also introduced templates for common seismic data types. For instance, we will be using the `PostStack3DTime` template [here][mdio-template-poststack3dtime], which expects the same canonical keys.\n",
    "\n",
    "In summary, we will use the byte locations as defined for ingestion.\n",
    "\n",
    "[segy-github]: https://github.com/TGSAI/segy\n",
    "[segy-binary-keys]: https://github.com/TGSAI/segy/blob/main/src/segy/standards/fields/binary.py\n",
    "[segy-trace-keys]: https://github.com/TGSAI/segy/blob/main/src/segy/standards/fields/trace.py\n",
    "[mdio-template-poststack3dtime]: https://github.com/TGSAI/mdio-python/blob/main/src/mdio/builder/templates/seismic_3d_poststack.py"
   ]
  },
  {
   "cell_type": "code",
   "metadata": {
    "pycharm": {
     "name": "#%%\n"
    }
   },
   "source": [
    "import matplotlib.pyplot as plt\n",
    "from segy.schema import HeaderField\n",
    "from segy.standards import get_segy_standard\n",
    "\n",
    "from mdio import segy_to_mdio\n",
    "from mdio.builder.template_registry import get_template\n",
    "\n",
    "teapot_trace_headers = [\n",
    "    HeaderField(name=\"inline\", byte=181, format=\"int32\"),\n",
    "    HeaderField(name=\"crossline\", byte=185, format=\"int32\"),\n",
    "    HeaderField(name=\"cdp_x\", byte=189, format=\"int32\"),\n",
    "    HeaderField(name=\"cdp_y\", byte=193, format=\"int32\"),\n",
    "]\n",
    "\n",
    "rev0_segy_spec = get_segy_standard(0)\n",
    "teapot_segy_spec = rev0_segy_spec.customize(trace_header_fields=teapot_trace_headers)\n",
    "\n",
    "mdio_template = get_template(\"PostStack3DTime\")\n",
    "segy_to_mdio(\n",
    "    input_path=input_url,\n",
    "    output_path=\"filt_mig.mdio\",\n",
    "    segy_spec=teapot_segy_spec,\n",
    "    mdio_template=mdio_template,\n",
    "    overwrite=True,\n",
    ")"
   ],
   "outputs": [],
   "execution_count": null
  },
  {
   "cell_type": "markdown",
   "metadata": {
    "pycharm": {
     "name": "#%% md\n"
    }
   },
   "source": [
    "It only took a few seconds to ingest, since this is a very small file.\n",
    "\n",
    "However, MDIO scales up to TB (that's ~1,000 GB) sized volumes!\n",
    "\n",
    "## Opening the Ingested MDIO File\n",
    "\n",
    "Let's open the MDIO file with the `open_mdio` function. This will return a pretty [`xarray`][xarray] representation with our standardized format.\n",
    "\n",
    "[xarray]: https://docs.xarray.dev"
   ]
  },
  {
   "cell_type": "code",
   "metadata": {
    "pycharm": {
     "name": "#%%\n"
    }
   },
   "source": [
    "from mdio import open_mdio\n",
    "\n",
    "dataset = open_mdio(\"filt_mig.mdio\")\n",
    "dataset"
   ],
   "outputs": [],
   "execution_count": null
  },
  {
   "cell_type": "markdown",
   "metadata": {
    "pycharm": {
     "name": "#%% md\n"
    }
   },
   "source": [
    "## Querying Metadata\n",
    "\n",
    "Now let's look at the file text header saved in the `segy_file_header` metadata variable."
   ]
  },
  {
   "cell_type": "code",
   "metadata": {
    "pycharm": {
     "name": "#%%\n"
    }
   },
   "source": [
    "print(dataset[\"segy_file_header\"].attrs[\"textHeader\"])"
   ],
   "outputs": [],
   "execution_count": null
  },
  {
   "cell_type": "markdown",
   "metadata": {
    "pycharm": {
     "name": "#%% md\n"
    }
   },
   "source": [
    "Since we saved the binary header, we can look at that as well."
   ]
  },
  {
   "cell_type": "code",
   "metadata": {
    "pycharm": {
     "name": "#%%\n"
    }
   },
   "source": [
    "dataset[\"segy_file_header\"].attrs[\"binaryHeader\"]"
   ],
   "outputs": [],
   "execution_count": null
  },
  {
   "cell_type": "markdown",
   "metadata": {
    "pycharm": {
     "name": "#%% md\n"
    }
   },
   "source": [
    "## MDIO Grid, Dimensions, and Related Attributes\n",
    "\n",
    "MDIO has an abstraction for an N-dimensional grid.\n",
    "MDIO also has named dimensions, so we can see which dimension (axis) corresponds to which name."
   ]
  },
  {
   "cell_type": "code",
   "metadata": {
    "pycharm": {
     "name": "#%%\n"
    }
   },
   "source": [
    "dataset.sizes"
   ],
   "outputs": [],
   "execution_count": null
  },
  {
   "cell_type": "code",
   "metadata": {
    "pycharm": {
     "name": "#%%\n"
    }
   },
   "source": [
    "dataset.inline"
   ],
   "outputs": [],
   "execution_count": null
  },
  {
   "cell_type": "code",
   "metadata": {
    "pycharm": {
     "name": "#%%\n"
    }
   },
   "source": [
    "dataset.crossline"
   ],
   "outputs": [],
   "execution_count": null
  },
  {
   "cell_type": "markdown",
   "metadata": {
    "pycharm": {
     "name": "#%% md\n"
    }
   },
   "source": [
    "## Fetching Data and Plotting\n",
    "\n",
    "Now we will demonstrate getting an inline from MDIO.\n",
    "\n",
    "Since MDIO v1 we are using Xarray under the hood, so we can use its convenient indexing. It also handles\n",
    "the plotting with proper dimension coordinate labels.\n",
    "\n",
    "MDIO stores summary statistics. We can calculate the standard deviation (std) value of the dataset to adjust the gain."
   ]
  },
  {
   "cell_type": "code",
   "metadata": {
    "pycharm": {
     "name": "#%%\n"
    }
   },
   "source": [
    "from mdio.builder.schemas.v1.stats import SummaryStatistics\n",
    "\n",
    "stats = SummaryStatistics.model_validate_json(dataset[\"amplitude\"].attrs[\"statsV1\"])\n",
    "std = ((stats.sum_squares / stats.count) - (stats.sum / stats.count) ** 2) ** 0.5\n",
    "\n",
    "il_dataset = dataset.sel(inline=278)\n",
    "il_amp = il_dataset[\"amplitude\"].T\n",
    "il_amp.plot(vmin=-2 * std, vmax=2 * std, cmap=\"gray_r\", yincrease=False);"
   ],
   "outputs": [],
   "execution_count": null
  },
  {
   "cell_type": "markdown",
   "metadata": {
    "pycharm": {
     "name": "#%% md\n"
    }
   },
   "source": [
    "Let's do the same with a time slice.\n",
    "\n",
    "We will display two-way-time at 1,000 ms.\n",
    "\n",
    "Note that since we parse the X/Y coordinates, we can plot time slice in real world coordinates."
   ]
  },
  {
   "cell_type": "code",
   "metadata": {},
   "source": [
    "twt_data = dataset[\"amplitude\"].sel(time=1000)\n",
    "twt_data.plot(vmin=-2 * std, vmax=2 * std, cmap=\"gray_r\", x=\"cdp_x\", y=\"cdp_y\");"
   ],
   "outputs": [],
   "execution_count": null
  },
  {
   "cell_type": "markdown",
   "metadata": {
    "pycharm": {
     "name": "#%% md\n"
    }
   },
   "source": [
    "We can also overlay live mask with the time slice. However, in this example, the dataset is zero-padded.\n",
    "\n",
    "The live trace mask will always show True (yellow)."
   ]
  },
  {
   "cell_type": "code",
   "metadata": {
    "pycharm": {
     "name": "#%%\n"
    }
   },
   "source": [
    "trace_mask = dataset.trace_mask[:]\n",
    "\n",
    "twt_data.plot(vmin=-2 * std, vmax=2 * std, cmap=\"gray_r\", x=\"cdp_x\", y=\"cdp_y\", alpha=0.5, figsize=(8, 5))\n",
    "trace_mask.plot(vmin=0, vmax=1, x=\"cdp_x\", y=\"cdp_y\", alpha=0.5);"
   ],
   "outputs": [],
   "execution_count": null
  },
  {
   "cell_type": "markdown",
   "metadata": {
    "pycharm": {
     "name": "#%% md\n"
    }
   },
   "source": [
    "## Query Headers"
   ]
  },
  {
   "cell_type": "markdown",
   "metadata": {
    "pycharm": {
     "name": "#%% md\n"
    }
   },
   "source": [
    "We can query headers for the whole dataset very quickly because they are separated from the seismic wavefield.\n",
    "\n",
    "Let's get all the headers for X and Y coordinates in this dataset.\n",
    "\n",
    "Note that the header maps will still share the geometry/grid of the dataset!\n",
    "\n",
    "The `compute` property fetches the lazily opened MDIO values."
   ]
  },
  {
   "cell_type": "code",
   "metadata": {
    "pycharm": {
     "name": "#%%\n"
    }
   },
   "source": [
    "dataset.headers[\"cdp_x\"].compute()"
   ],
   "outputs": [],
   "execution_count": null
  },
  {
   "cell_type": "code",
   "metadata": {
    "pycharm": {
     "name": "#%%\n"
    }
   },
   "source": [
    "dataset.headers[\"cdp_y\"].compute()"
   ],
   "outputs": [],
   "execution_count": null
  },
  {
   "cell_type": "markdown",
   "metadata": {
    "pycharm": {
     "name": "#%% md\n"
    }
   },
   "source": [
    "As we mentioned before, we can also get specific dataset slices of headers while fetching a slice.\n",
    "\n",
    "Let's fetch a crossline; we are still using some previous parameters.\n",
    "\n",
    "Since the sliced dataset contains the headers as well, we can plot the headers on top of the image.\n",
    "\n",
    "Full headers can be mapped and plotted as well, but we won't demonstrate that here."
   ]
  },
  {
   "cell_type": "code",
   "metadata": {
    "pycharm": {
     "name": "#%%\n"
    }
   },
   "source": [
    "xl_dataset = dataset.sel(crossline=100)  # slices everything available in MDIO dataset!\n",
    "\n",
    "cdp_x_header = xl_dataset[\"cdp_x\"]\n",
    "cdp_y_header = xl_dataset[\"cdp_y\"]\n",
    "image = xl_dataset[\"amplitude\"].T\n",
    "\n",
    "# Build plot from here\n",
    "gs_kw = {\"height_ratios\": (1, 8)}\n",
    "fig, (hdr_ax, img_ax) = plt.subplots(2, 1, figsize=(6, 6), gridspec_kw=gs_kw, sharex=\"all\")\n",
    "hdr_ax2 = hdr_ax.twinx()\n",
    "\n",
    "cdp_x_header.plot(ax=hdr_ax, c=\"red\")\n",
    "cdp_y_header.plot(ax=hdr_ax2, c=\"black\")\n",
    "image.plot(ax=img_ax, vmin=-2 * std, vmax=2 * std, cmap=\"gray_r\", yincrease=False, add_colorbar=False)\n",
    "img_ax.set_title(\"\")\n",
    "hdr_ax.set_xlabel(\"\")\n",
    "\n",
    "plt.tight_layout()"
   ],
   "outputs": [],
   "execution_count": null
  },
  {
   "cell_type": "markdown",
   "metadata": {
    "pycharm": {
     "name": "#%% md\n"
    }
   },
   "source": [
    "## MDIO to SEG-Y Conversion\n",
    "\n",
    "Finally, let's demonstrate going back to SEG-Y.\n",
    "\n",
    "We will use the convenient `mdio_to_segy` function and write it out as a round-trip file.\n",
    "\n",
    "The output spec can be modified if we want to write things to different byte locations, etc, but we will use the same one as before."
   ]
  },
  {
   "cell_type": "code",
   "metadata": {
    "pycharm": {
     "name": "#%%\n"
    }
   },
   "source": [
    "from mdio import mdio_to_segy\n",
    "\n",
    "mdio_to_segy(\n",
    "    input_path=\"filt_mig.mdio\",\n",
    "    output_path=\"filt_mig_roundtrip.sgy\",\n",
    "    segy_spec=teapot_segy_spec,\n",
    ")"
   ],
   "outputs": [],
   "execution_count": null
  },
  {
   "cell_type": "markdown",
   "metadata": {
    "pycharm": {
     "name": "#%% md\n"
    }
   },
   "source": [
    "## Validate Round-Trip SEG-Y File\n",
    "\n",
    "We can validate if the round-trip SEG-Y file is matching the original using [TGSAI/segy][segy-github].\n",
    "\n",
    "Step by step:\n",
    "* Open original file\n",
    "* Open round-trip file\n",
    "* Compare text headers\n",
    "* Compare binary headers\n",
    "* Compare 100 random headers and traces\n",
    "\n",
    "[segy-github]: https://github.com/TGSAI/segy"
   ]
  },
  {
   "cell_type": "code",
   "metadata": {
    "pycharm": {
     "name": "#%%\n"
    }
   },
   "source": [
    "import numpy as np\n",
    "from segy import SegyFile\n",
    "\n",
    "original_segy = SegyFile(input_url)\n",
    "roundtrip_segy = SegyFile(\"filt_mig_roundtrip.sgy\")\n",
    "\n",
    "# Compare text header\n",
    "assert original_segy.text_header == roundtrip_segy.text_header\n",
    "\n",
    "# Compare bin header\n",
    "assert original_segy.binary_header == roundtrip_segy.binary_header\n",
    "\n",
    "# Compare 100 random trace headers and traces\n",
    "rng = np.random.default_rng()\n",
    "rand_indices = rng.integers(low=0, high=original_segy.num_traces, size=100)\n",
    "for idx in rand_indices:\n",
    "    np.testing.assert_equal(original_segy.trace[idx], roundtrip_segy.trace[idx])\n",
    "\n",
    "print(\"Files identical!\")"
   ],
   "outputs": [],
   "execution_count": null
  },
  {
   "cell_type": "code",
   "metadata": {},
   "source": [],
   "outputs": [],
   "execution_count": null
  }
 ],
 "metadata": {
  "mystnb": {
   "execution_mode": "force"
  },
  "kernelspec": {
   "display_name": "Python 3 (ipykernel)",
   "language": "python",
   "name": "python3"
  },
  "language_info": {
   "codemirror_mode": {
    "name": "ipython",
    "version": 3
   },
   "file_extension": ".py",
   "mimetype": "text/x-python",
   "name": "python",
   "nbconvert_exporter": "python",
   "pygments_lexer": "ipython3",
   "version": "3.13.5"
  },
  "widgets": {
   "application/vnd.jupyter.widget-state+json": {
    "state": {
     "104c0d4e90244ebc959e51a58794dcf4": {
      "model_module": "@jupyter-widgets/base",
      "model_module_version": "2.0.0",
      "model_name": "LayoutModel",
      "state": {
       "display": "inline-flex",
       "flex_flow": "row wrap",
       "width": "100%"
      }
     },
     "1c0f5b458ee1401eaa8de63c65802073": {
      "model_module": "@jupyter-widgets/controls",
      "model_module_version": "2.0.0",
      "model_name": "HTMLStyleModel",
      "state": {
       "description_width": "",
       "font_size": null,
       "text_color": null
      }
     },
     "21b25dd6080d42368afc06770d5e1755": {
      "model_module": "@jupyter-widgets/controls",
      "model_module_version": "2.0.0",
      "model_name": "HTMLModel",
      "state": {
       "layout": "IPY_MODEL_35fb49026dac479eba87217c2f6bcb9a",
       "style": "IPY_MODEL_3ab3e27c83aa423d9ecdac94e576f0fe",
       "value": "Ingesting SEG-Y in 6 chunks: 100%"
      }
     },
     "2693aae410f04e7587f0400b5eef1079": {
      "model_module": "@jupyter-widgets/controls",
      "model_module_version": "2.0.0",
      "model_name": "ProgressStyleModel",
      "state": {
       "description_width": ""
      }
     },
     "318aea09479a479981dcfa29bc856c67": {
      "model_module": "@jupyter-widgets/controls",
      "model_module_version": "2.0.0",
      "model_name": "ProgressStyleModel",
      "state": {
       "description_width": ""
      }
     },
     "35fb49026dac479eba87217c2f6bcb9a": {
      "model_module": "@jupyter-widgets/base",
      "model_module_version": "2.0.0",
      "model_name": "LayoutModel",
      "state": {}
     },
     "3ab3e27c83aa423d9ecdac94e576f0fe": {
      "model_module": "@jupyter-widgets/controls",
      "model_module_version": "2.0.0",
      "model_name": "HTMLStyleModel",
      "state": {
       "description_width": "",
       "font_size": null,
       "text_color": null
      }
     },
     "420b4a9492c54eb48d7779f38a09fd20": {
      "model_module": "@jupyter-widgets/base",
      "model_module_version": "2.0.0",
      "model_name": "LayoutModel",
      "state": {
       "flex": "2"
      }
     },
     "42afe4fae9dd4bc4a341a231cf7a9c32": {
      "model_module": "@jupyter-widgets/base",
      "model_module_version": "2.0.0",
      "model_name": "LayoutModel",
      "state": {}
     },
     "4df685a95de542ffab6f265df89b8949": {
      "model_module": "@jupyter-widgets/controls",
      "model_module_version": "2.0.0",
      "model_name": "HTMLStyleModel",
      "state": {
       "description_width": "",
       "font_size": null,
       "text_color": null
      }
     },
     "58eaddb54c8840da83d1f6503d6ba64f": {
      "model_module": "@jupyter-widgets/base",
      "model_module_version": "2.0.0",
      "model_name": "LayoutModel",
      "state": {}
     },
     "5b3e72b71f304230bc36bb91f9c173be": {
      "model_module": "@jupyter-widgets/controls",
      "model_module_version": "2.0.0",
      "model_name": "HTMLStyleModel",
      "state": {
       "description_width": "",
       "font_size": null,
       "text_color": null
      }
     },
     "5c1fab0ccc7e42c69c2b663b67ca9e3c": {
      "model_module": "@jupyter-widgets/base",
      "model_module_version": "2.0.0",
      "model_name": "LayoutModel",
      "state": {}
     },
     "63a54817ae8b4c8d85b30d8c97e7ed0d": {
      "model_module": "@jupyter-widgets/controls",
      "model_module_version": "2.0.0",
      "model_name": "HBoxModel",
      "state": {
       "children": [
        "IPY_MODEL_e170d60a55a14c489d32b101293a9d33",
        "IPY_MODEL_662ad93cf7b3470f8e197350441f09ca",
        "IPY_MODEL_ac4abab2367e461e956e4e0edb27be44"
       ],
       "layout": "IPY_MODEL_c59d6fe969a04f4da332ae2a6fdb9c77"
      }
     },
     "63f87a2410ba47d38ad9f55a81357a29": {
      "model_module": "@jupyter-widgets/controls",
      "model_module_version": "2.0.0",
      "model_name": "HTMLModel",
      "state": {
       "layout": "IPY_MODEL_ca48140488574a28a7469552441560e4",
       "style": "IPY_MODEL_ae2037efb9cc459e84bcc28ca7243437",
       "value": " 2/2 [00:03&lt;00:00,  3.01s/block]"
      }
     },
     "64eb2b9c8a094a1ea5f1991e5f09f5d9": {
      "model_module": "@jupyter-widgets/base",
      "model_module_version": "2.0.0",
      "model_name": "LayoutModel",
      "state": {}
     },
     "662ad93cf7b3470f8e197350441f09ca": {
      "model_module": "@jupyter-widgets/controls",
      "model_module_version": "2.0.0",
      "model_name": "FloatProgressModel",
      "state": {
       "bar_style": "success",
       "layout": "IPY_MODEL_420b4a9492c54eb48d7779f38a09fd20",
       "max": 1,
       "style": "IPY_MODEL_d16e93f72f3d4aeda2f5deee87e9754f",
       "value": 1
      }
     },
     "74283969ff5446c89bb83b00a70226cf": {
      "model_module": "@jupyter-widgets/controls",
      "model_module_version": "2.0.0",
      "model_name": "HTMLModel",
      "state": {
       "layout": "IPY_MODEL_5c1fab0ccc7e42c69c2b663b67ca9e3c",
       "style": "IPY_MODEL_1c0f5b458ee1401eaa8de63c65802073",
       "value": " 6/6 [00:09&lt;00:00,  2.48s/block]"
      }
     },
     "75cf0c1ed25e47aab20b060f3bb44fb8": {
      "model_module": "@jupyter-widgets/controls",
      "model_module_version": "2.0.0",
      "model_name": "HBoxModel",
      "state": {
       "children": [
        "IPY_MODEL_21b25dd6080d42368afc06770d5e1755",
        "IPY_MODEL_c33f32b62a204ef094f67b10f8adbdc1",
        "IPY_MODEL_74283969ff5446c89bb83b00a70226cf"
       ],
       "layout": "IPY_MODEL_91df4ac76fd744539d4237d6099f34a5"
      }
     },
     "7ff32d7deac14f21ab0f0939fe09e440": {
      "model_module": "@jupyter-widgets/controls",
      "model_module_version": "2.0.0",
      "model_name": "ProgressStyleModel",
      "state": {
       "description_width": ""
      }
     },
     "91df4ac76fd744539d4237d6099f34a5": {
      "model_module": "@jupyter-widgets/base",
      "model_module_version": "2.0.0",
      "model_name": "LayoutModel",
      "state": {
       "display": "inline-flex",
       "flex_flow": "row wrap",
       "width": "100%"
      }
     },
     "981634b52a7a4ffdae6186061c0b6482": {
      "model_module": "@jupyter-widgets/controls",
      "model_module_version": "2.0.0",
      "model_name": "HBoxModel",
      "state": {
       "children": [
        "IPY_MODEL_f65266f861cf40ef84e9ec74a8e0b44c",
        "IPY_MODEL_9aaf514a5035413d8cbbad58aa0221f4",
        "IPY_MODEL_63f87a2410ba47d38ad9f55a81357a29"
       ],
       "layout": "IPY_MODEL_104c0d4e90244ebc959e51a58794dcf4"
      }
     },
     "9aaf514a5035413d8cbbad58aa0221f4": {
      "model_module": "@jupyter-widgets/controls",
      "model_module_version": "2.0.0",
      "model_name": "FloatProgressModel",
      "state": {
       "bar_style": "success",
       "layout": "IPY_MODEL_b25523a221fd4b5e9211d07ef39cccf5",
       "max": 2,
       "style": "IPY_MODEL_318aea09479a479981dcfa29bc856c67",
       "value": 2
      }
     },
     "9fe5348964cd4f7880bcd33204bbc7a2": {
      "model_module": "@jupyter-widgets/base",
      "model_module_version": "2.0.0",
      "model_name": "LayoutModel",
      "state": {}
     },
     "a03d238db31145b881a1be478f9eb72f": {
      "model_module": "@jupyter-widgets/controls",
      "model_module_version": "2.0.0",
      "model_name": "HTMLStyleModel",
      "state": {
       "description_width": "",
       "font_size": null,
       "text_color": null
      }
     },
     "a6aabcd2e57348a49bb59477f6a9fd90": {
      "model_module": "@jupyter-widgets/controls",
      "model_module_version": "2.0.0",
      "model_name": "FloatProgressModel",
      "state": {
       "bar_style": "success",
       "layout": "IPY_MODEL_cfb02c9c7447491ca00bbb6acd99bb79",
       "max": 26,
       "style": "IPY_MODEL_7ff32d7deac14f21ab0f0939fe09e440",
       "value": 26
      }
     },
     "ac4abab2367e461e956e4e0edb27be44": {
      "model_module": "@jupyter-widgets/controls",
      "model_module_version": "2.0.0",
      "model_name": "HTMLModel",
      "state": {
       "layout": "IPY_MODEL_58eaddb54c8840da83d1f6503d6ba64f",
       "style": "IPY_MODEL_a03d238db31145b881a1be478f9eb72f",
       "value": " 3/? [00:00&lt;00:00,  8.29block/s]"
      }
     },
     "ae2037efb9cc459e84bcc28ca7243437": {
      "model_module": "@jupyter-widgets/controls",
      "model_module_version": "2.0.0",
      "model_name": "HTMLStyleModel",
      "state": {
       "description_width": "",
       "font_size": null,
       "text_color": null
      }
     },
     "b25523a221fd4b5e9211d07ef39cccf5": {
      "model_module": "@jupyter-widgets/base",
      "model_module_version": "2.0.0",
      "model_name": "LayoutModel",
      "state": {
       "flex": "2"
      }
     },
     "b9810ee38bbe43f4bba100e53379be65": {
      "model_module": "@jupyter-widgets/controls",
      "model_module_version": "2.0.0",
      "model_name": "HTMLModel",
      "state": {
       "layout": "IPY_MODEL_42afe4fae9dd4bc4a341a231cf7a9c32",
       "style": "IPY_MODEL_fdcea609ee7349629604217b625371d3",
       "value": " 26/26 [00:01&lt;00:00, 18.92block/s]"
      }
     },
     "c33f32b62a204ef094f67b10f8adbdc1": {
      "model_module": "@jupyter-widgets/controls",
      "model_module_version": "2.0.0",
      "model_name": "FloatProgressModel",
      "state": {
       "bar_style": "success",
       "layout": "IPY_MODEL_d23d88490a1b4941b8ca228b7d4a39cb",
       "max": 6,
       "style": "IPY_MODEL_2693aae410f04e7587f0400b5eef1079",
       "value": 6
      }
     },
     "c59d6fe969a04f4da332ae2a6fdb9c77": {
      "model_module": "@jupyter-widgets/base",
      "model_module_version": "2.0.0",
      "model_name": "LayoutModel",
      "state": {
       "display": "inline-flex",
       "flex_flow": "row wrap",
       "width": "100%"
      }
     },
     "ca48140488574a28a7469552441560e4": {
      "model_module": "@jupyter-widgets/base",
      "model_module_version": "2.0.0",
      "model_name": "LayoutModel",
      "state": {}
     },
     "cfb02c9c7447491ca00bbb6acd99bb79": {
      "model_module": "@jupyter-widgets/base",
      "model_module_version": "2.0.0",
      "model_name": "LayoutModel",
      "state": {
       "flex": "2"
      }
     },
     "d16e93f72f3d4aeda2f5deee87e9754f": {
      "model_module": "@jupyter-widgets/controls",
      "model_module_version": "2.0.0",
      "model_name": "ProgressStyleModel",
      "state": {
       "description_width": ""
      }
     },
     "d23d88490a1b4941b8ca228b7d4a39cb": {
      "model_module": "@jupyter-widgets/base",
      "model_module_version": "2.0.0",
      "model_name": "LayoutModel",
      "state": {
       "flex": "2"
      }
     },
     "d565a20d37e84ed0a1195e9a90154960": {
      "model_module": "@jupyter-widgets/controls",
      "model_module_version": "2.0.0",
      "model_name": "HBoxModel",
      "state": {
       "children": [
        "IPY_MODEL_db696e15587c4a54b82886b3eb5a0c96",
        "IPY_MODEL_a6aabcd2e57348a49bb59477f6a9fd90",
        "IPY_MODEL_b9810ee38bbe43f4bba100e53379be65"
       ],
       "layout": "IPY_MODEL_eab4b060672b4dd5a73ca7bb8f782cd2"
      }
     },
     "db696e15587c4a54b82886b3eb5a0c96": {
      "model_module": "@jupyter-widgets/controls",
      "model_module_version": "2.0.0",
      "model_name": "HTMLModel",
      "state": {
       "layout": "IPY_MODEL_64eb2b9c8a094a1ea5f1991e5f09f5d9",
       "style": "IPY_MODEL_5b3e72b71f304230bc36bb91f9c173be",
       "value": "Step 1 / 2 Writing Blocks: 100%"
      }
     },
     "e170d60a55a14c489d32b101293a9d33": {
      "model_module": "@jupyter-widgets/controls",
      "model_module_version": "2.0.0",
      "model_name": "HTMLModel",
      "state": {
       "layout": "IPY_MODEL_9fe5348964cd4f7880bcd33204bbc7a2",
       "style": "IPY_MODEL_4df685a95de542ffab6f265df89b8949",
       "value": "Step 2 / 2 Concat Blocks: "
      }
     },
     "e66368cda8124001b16459a0634029e2": {
      "model_module": "@jupyter-widgets/controls",
      "model_module_version": "2.0.0",
      "model_name": "HTMLStyleModel",
      "state": {
       "description_width": "",
       "font_size": null,
       "text_color": null
      }
     },
     "eab4b060672b4dd5a73ca7bb8f782cd2": {
      "model_module": "@jupyter-widgets/base",
      "model_module_version": "2.0.0",
      "model_name": "LayoutModel",
      "state": {
       "display": "inline-flex",
       "flex_flow": "row wrap",
       "width": "100%"
      }
     },
     "f65266f861cf40ef84e9ec74a8e0b44c": {
      "model_module": "@jupyter-widgets/controls",
      "model_module_version": "2.0.0",
      "model_name": "HTMLModel",
      "state": {
       "layout": "IPY_MODEL_fff4199774534d9f982f03738fbb08e7",
       "style": "IPY_MODEL_e66368cda8124001b16459a0634029e2",
       "value": "Scanning SEG-Y for geometry attributes: 100%"
      }
     },
     "fdcea609ee7349629604217b625371d3": {
      "model_module": "@jupyter-widgets/controls",
      "model_module_version": "2.0.0",
      "model_name": "HTMLStyleModel",
      "state": {
       "description_width": "",
       "font_size": null,
       "text_color": null
      }
     },
     "fff4199774534d9f982f03738fbb08e7": {
      "model_module": "@jupyter-widgets/base",
      "model_module_version": "2.0.0",
      "model_name": "LayoutModel",
      "state": {}
     }
    },
    "version_major": 2,
    "version_minor": 0
   }
  }
 },
 "nbformat": 4,
 "nbformat_minor": 4
}
